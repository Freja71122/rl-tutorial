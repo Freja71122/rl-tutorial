{
 "cells": [
  {
   "cell_type": "markdown",
   "metadata": {
    "colab_type": "text",
    "id": "hyyN-2qyK_T2"
   },
   "source": [
    "# Stable Baselines3 基础手册\n",
    "\n",
    "Stable Baselines3（下文简称 sb3）是一个非常受欢迎的 RL 工具包，**用户只需要定义清楚环境和算法，sb3 就能十分优雅的完成训练和评估。**\n",
    "\n",
    "这一篇会介绍 Stable Baselines3 的基础：\n",
    "- 如何进行 RL 训练和测试？\n",
    "- 如何可视化训练效果？\n",
    "- 如何创建自定义环境？来适应新的任务？\n",
    "\n",
    "**首先回顾一下，RL 中最核心的两个组件：智能体 Agent 和环境 Environment：**\n",
    "- 智能体是 sb3 中提供的模型\n",
    "- sb3 使用 Gym 作为交互环境，包括 Gym 中提供的、或者用户自定义的环境（需要继承 gym.Env)"
   ]
  },
  {
   "cell_type": "markdown",
   "metadata": {},
   "source": [
    "使用安装有 sb3 的环境可以通过如下命令安装：\n",
    "- `pip install stable-baselines3[extra]`"
   ]
  },
  {
   "cell_type": "markdown",
   "metadata": {},
   "source": [
    "## 1. 如何进行 RL 训练和测试？\n",
    "\n",
    "在 sb 中，如果我们使用现成 RL 算法和现成的 Gym 环境，我们通过一行就可以进行 RL 的训练：\n",
    "\n",
    "`model = PPO('MlpPolicy', \"CartPole-v1\", verbose=1).learn(1000)`"
   ]
  },
  {
   "cell_type": "markdown",
   "metadata": {},
   "source": [
    "下面我们详细了解一下里面发生了什么。\n",
    "\n",
    "我们使用一个经典环境作为例子：CartPole\n",
    "\n",
    "![Cartpole](./cartpole.gif)\n",
    "\n",
    "智能体是一根杆和一个推车组成的钟摆，该推车沿着无摩擦的轨道移动，通过向推车施加 +1 或 -1 的力来控制系统。钟摆初始是直立的，目的是防止它倒下，杆保持直立的每个时间步都会获得 +1 的奖励。\n",
    "\n",
    "我们使用 MLP 作为 Policy 网络，使用 PPO（AC算法）作为强化学习更新算法。"
   ]
  },
  {
   "cell_type": "code",
   "execution_count": 1,
   "metadata": {
    "colab": {},
    "colab_type": "code",
    "id": "BIedd7Pz9sOs"
   },
   "outputs": [],
   "source": [
    "# import 环境\n",
    "import gym\n",
    "# import RL 算法\n",
    "from stable_baselines3 import PPO\n",
    "import numpy as np\n",
    "from stable_baselines3.common.evaluation import evaluate_policy"
   ]
  },
  {
   "cell_type": "code",
   "execution_count": 2,
   "metadata": {
    "colab": {},
    "colab_type": "code",
    "id": "pUWGZp3i9wyf"
   },
   "outputs": [
    {
     "name": "stderr",
     "output_type": "stream",
     "text": [
      "/hf_shared/hfai_envs/bixiao/rl_0/lib/python3.8/site-packages/stable_baselines3/common/evaluation.py:65: UserWarning: Evaluation environment is not wrapped with a ``Monitor`` wrapper. This may result in reporting modified episode lengths and rewards, if other wrappers happen to modify these. Consider wrapping environment first with ``Monitor`` wrapper.\n",
      "  warnings.warn(\n"
     ]
    },
    {
     "name": "stdout",
     "output_type": "stream",
     "text": [
      "mean_reward:147.60 +/- 60.15\n"
     ]
    }
   ],
   "source": [
    "# 指定使用的环境\n",
    "env = gym.make('CartPole-v1')\n",
    "# 指定使用的模型\n",
    "# 第一个参数指定网络类型，可选MlpPolicy，CnnPolicy，MultiInputPolicy\n",
    "# 如果想使用自定义的网络结构，可以在 policy_kwargs 参数中进行定义\n",
    "model = PPO(\"MlpPolicy\", env, verbose=0)\n",
    "# 训练之前随机的 policy，可以获得的平均 reward 比较低\n",
    "mean_reward, std_reward = evaluate_policy(model, env, n_eval_episodes=10)\n",
    "print(f\"mean_reward:{mean_reward:.2f} +/- {std_reward:.2f}\")"
   ]
  },
  {
   "cell_type": "code",
   "execution_count": 3,
   "metadata": {
    "colab": {},
    "colab_type": "code",
    "id": "e4cfSXIB-pTF"
   },
   "outputs": [
    {
     "data": {
      "text/plain": [
       "<stable_baselines3.ppo.ppo.PPO at 0x7fbb105b96d0>"
      ]
     },
     "execution_count": 3,
     "metadata": {},
     "output_type": "execute_result"
    }
   ],
   "source": [
    "# 训练 RL 模型\n",
    "model.learn(total_timesteps=1000)"
   ]
  },
  {
   "cell_type": "code",
   "execution_count": 4,
   "metadata": {
    "colab": {},
    "colab_type": "code",
    "id": "ygl_gVmV_QP7"
   },
   "outputs": [
    {
     "name": "stdout",
     "output_type": "stream",
     "text": [
      "mean_reward:191.00 +/- 58.00\n"
     ]
    }
   ],
   "source": [
    "# 评估训练后的 policy\n",
    "mean_reward, std_reward = evaluate_policy(model, env, n_eval_episodes=10)\n",
    "print(f\"mean_reward:{mean_reward:.2f} +/- {std_reward:.2f}\")"
   ]
  },
  {
   "cell_type": "markdown",
   "metadata": {
    "colab_type": "text",
    "id": "A00W6yY3NkHG"
   },
   "source": [
    "**可以看出训练颇有效果，policy 取得的平均 Reward 有了很大的提升**\n",
    "\n",
    "在 sb3 中仅仅用 `model.learn()` `evaluate_policy` 就完成了训练和测试。那这两个函数中发生了什么呢？\n",
    "\n",
    "**`evaluate_policy` 中的细节**\n",
    "```\n",
    "def evaluate(model, num_episodes=100):\n",
    "    # 创建环境\n",
    "    env = model.get_env()\n",
    "    all_episode_rewards = []\n",
    "    for i in range(num_episodes):\n",
    "        # 对于每一个回合\n",
    "        episode_rewards = []\n",
    "        done = False\n",
    "        obs = env.reset()\n",
    "        while not done:\n",
    "            # 一直执行，直到env说这一局done了\n",
    "            # 使用 policy 根据看到的观测预测行为\n",
    "            action, _states = model.predict(obs)\n",
    "            # 使用 env 执行行为，获得reward、新的观测、是否结束、其它信息等\n",
    "            obs, reward, done, info = env.step(action)\n",
    "            episode_rewards.append(reward)\n",
    "        all_episode_rewards.append(sum(episode_rewards))\n",
    "    # 计算获得的平均 Reward\n",
    "    mean_episode_reward = np.mean(all_episode_rewards)\n",
    "    print(\"Mean reward:\", mean_episode_reward, \"Num episodes:\", num_episodes)\n",
    "\n",
    "    return mean_episode_reward\n",
    "```\n",
    "\n",
    "而 `model.learn()` 在完成 `evaluate_policy` 的交互的基础上，增加了 loss 计算和梯度更新等常见的训练流程。\n",
    "\n",
    "在sb3中，这些细节都无需用户再关心，用户定义好环境和算法就可以让sb3完成剩下的训练啦。"
   ]
  },
  {
   "cell_type": "markdown",
   "metadata": {
    "colab_type": "text",
    "id": "9Y8zg4V566qD"
   },
   "source": [
    "## 总结：一句话训练 RL 模型"
   ]
  },
  {
   "cell_type": "code",
   "execution_count": 5,
   "metadata": {
    "colab": {},
    "colab_type": "code",
    "id": "iaOPfOrwWEP4"
   },
   "outputs": [
    {
     "name": "stdout",
     "output_type": "stream",
     "text": [
      "Using cuda device\n",
      "Creating environment from the given name 'CartPole-v1'\n",
      "Wrapping the env with a `Monitor` wrapper\n",
      "Wrapping the env in a DummyVecEnv.\n",
      "---------------------------------\n",
      "| rollout/           |          |\n",
      "|    ep_len_mean     | 20.7     |\n",
      "|    ep_rew_mean     | 20.7     |\n",
      "| time/              |          |\n",
      "|    fps             | 1175     |\n",
      "|    iterations      | 1        |\n",
      "|    time_elapsed    | 1        |\n",
      "|    total_timesteps | 2048     |\n",
      "---------------------------------\n"
     ]
    }
   ],
   "source": [
    "model = PPO('MlpPolicy', \"CartPole-v1\", verbose=1).learn(1000)"
   ]
  },
  {
   "cell_type": "markdown",
   "metadata": {
    "colab_type": "text",
    "id": "xVm9QPNVwKXN"
   },
   "source": [
    "## 2. 如何可视化训练效果？\n",
    "\n",
    "因为在我们的集群上，不方便弹窗把 env 界面实时渲染出来，所以我们通过使用工具包进行环境的视频录制，从而看到智能体的交互情况。"
   ]
  },
  {
   "cell_type": "code",
   "execution_count": 6,
   "metadata": {
    "colab": {},
    "colab_type": "code",
    "id": "MPyfQxD5z26J"
   },
   "outputs": [],
   "source": [
    "# Set up fake display; otherwise rendering will fail\n",
    "import os\n",
    "os.system(\"Xvfb :1 -screen 0 1024x768x24 &\")\n",
    "os.environ['DISPLAY'] = ':1'"
   ]
  },
  {
   "cell_type": "code",
   "execution_count": 7,
   "metadata": {
    "colab": {},
    "colab_type": "code",
    "id": "SLzXxO8VMD6N"
   },
   "outputs": [],
   "source": [
    "import base64\n",
    "from pathlib import Path\n",
    "from stable_baselines3.common.vec_env import VecVideoRecorder, DummyVecEnv\n",
    "from IPython import display as ipythondisplay\n",
    "\n",
    "# 下面定义一些帮助函数\n",
    "def show_videos(video_path='', prefix=''):\n",
    "  \"\"\"\n",
    "  Taken from https://github.com/eleurent/highway-env\n",
    "\n",
    "  :param video_path: (str) Path to the folder containing videos\n",
    "  :param prefix: (str) Filter the video, showing only the only starting with this prefix\n",
    "  \"\"\"\n",
    "  html = []\n",
    "  for mp4 in Path(video_path).glob(\"{}*.mp4\".format(prefix)):\n",
    "      video_b64 = base64.b64encode(mp4.read_bytes())\n",
    "      html.append('''<video alt=\"{}\" autoplay \n",
    "                    loop controls style=\"height: 400px;\">\n",
    "                    <source src=\"data:video/mp4;base64,{}\" type=\"video/mp4\" />\n",
    "                </video>'''.format(mp4, video_b64.decode('ascii')))\n",
    "  ipythondisplay.display(ipythondisplay.HTML(data=\"<br>\".join(html)))\n",
    "\n",
    "\n",
    "def record_video(env_id, model, video_length=500, prefix='', video_folder='videos/'):\n",
    "  \"\"\"\n",
    "  :param env_id: (str)\n",
    "  :param model: (RL model)\n",
    "  :param video_length: (int)\n",
    "  :param prefix: (str)\n",
    "  :param video_folder: (str)\n",
    "  \"\"\"\n",
    "  eval_env = DummyVecEnv([lambda: gym.make(env_id)])\n",
    "  # Start the video at step=0 and record 500 steps\n",
    "  eval_env = VecVideoRecorder(eval_env, video_folder=video_folder,\n",
    "                              record_video_trigger=lambda step: step == 0, video_length=video_length,\n",
    "                              name_prefix=prefix)\n",
    "\n",
    "  obs = eval_env.reset()\n",
    "  for _ in range(video_length):\n",
    "    action, _ = model.predict(obs)\n",
    "    obs, _, _, _ = eval_env.step(action)\n",
    "\n",
    "  # Close the video recorder\n",
    "  eval_env.close()"
   ]
  },
  {
   "cell_type": "markdown",
   "metadata": {
    "colab_type": "text",
    "id": "KOObbeu5MMlR"
   },
   "source": [
    "### 可视化训练好的智能体"
   ]
  },
  {
   "cell_type": "code",
   "execution_count": 8,
   "metadata": {
    "colab": {
     "base_uri": "https://localhost:8080/",
     "height": 35
    },
    "colab_type": "code",
    "id": "iATu7AiyMQW2",
    "outputId": "68acb027-6c94-4389-8456-2cfb11494814"
   },
   "outputs": [
    {
     "name": "stderr",
     "output_type": "stream",
     "text": [
      "(EE) \n",
      "Fatal server error:\n",
      "(EE) Server is already active for display 1\n",
      "\tIf this server is no longer running, remove /tmp/.X1-lock\n",
      "\tand start again.\n",
      "(EE) \n"
     ]
    },
    {
     "name": "stdout",
     "output_type": "stream",
     "text": [
      "Saving video to /weka-jd/prod/jupyter/bixiao/notebooks/Workspace/Codes/RL/rl-tutorial/videos/ppo2-cartpole-step-0-to-step-500.mp4\n"
     ]
    }
   ],
   "source": [
    "# 录制视频\n",
    "record_video('CartPole-v1', model, video_length=500, prefix='ppo2-cartpole')"
   ]
  },
  {
   "cell_type": "code",
   "execution_count": 9,
   "metadata": {
    "colab": {},
    "colab_type": "code",
    "id": "-n4i-fW3NojZ"
   },
   "outputs": [
    {
     "data": {
      "text/html": [
       "<video alt=\"videos/ppo2-cartpole-step-0-to-step-500.mp4\" autoplay \n",
       "                    loop controls style=\"height: 400px;\">\n",
       "                    <source src=\"data:video/mp4;base64,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\" type=\"video/mp4\" />\n",
       "                </video>"
      ],
      "text/plain": [
       "<IPython.core.display.HTML object>"
      ]
     },
     "metadata": {},
     "output_type": "display_data"
    }
   ],
   "source": [
    "# 展示视频\n",
    "show_videos('videos', prefix='ppo2')"
   ]
  },
  {
   "cell_type": "markdown",
   "metadata": {
    "colab": {},
    "colab_type": "code",
    "id": "73ji3gbNDkf7"
   },
   "source": [
    "## 3. 如何创建自定义环境？\n",
    "\n",
    "下述为继承 gym.Env 的自定义环境例子：\n",
    "```\n",
    "import gym\n",
    "from gym import spaces\n",
    "\n",
    "class CustomEnv(gym.Env):\n",
    "    \"\"\"Custom Environment that follows gym interface\"\"\"\n",
    "    def __init__(self, arg1, arg2, ...):\n",
    "        super(CustomEnv, self).__init__()\n",
    "        # 定义行为和观测空间，都需要继承于 gym.spaces\n",
    "        # 下面是使用离散 Action 的例子:\n",
    "        self.action_space = spaces.Discrete(N_DISCRETE_ACTIONS)\n",
    "        # 下面是使用图片作为观测的例子\n",
    "        self.observation_space = spaces.Box(low=0, high=255,\n",
    "                                            shape=(N_CHANNELS, HEIGHT, WIDTH), dtype=np.uint8)\n",
    "    def step(self, action):\n",
    "        # 输入 action，智能体执行 action 与环境交互，返回获得的（新的观测、奖励、是否结束、其他）\n",
    "        ...\n",
    "        return observation, reward, done, info\n",
    "    def reset(self):\n",
    "        # 重置环境\n",
    "        ...\n",
    "        return observation  # reward, done, info can't be included \n",
    "    def render(self, mode=\"human\"):\n",
    "        # 渲染环境\n",
    "        ...\n",
    "```"
   ]
  },
  {
   "cell_type": "markdown",
   "metadata": {},
   "source": [
    "上面包括三个需要实现的函数：\n",
    "- `reset()` 在每个回合最开始时执行，返回当前的观测（observation）\n",
    "- `step(action)` 输入 action，智能体执行 action 与环境交互，返回获得的（新的观测、奖励、是否结束、其他）\n",
    "- (Optional) `render(method='human')` 渲染环境\n",
    "\n",
    "环境中需要定义两个变量：\n",
    "- `observation_space` 需要是 gym spaces 类型 (`Discrete`, `Box`, ...) ，描述观测的形状\n",
    "- `action_space` 需要是 gym spaces 类型，描述 action 的形状\n",
    "\n",
    "gym spaces 最重要的两个类型：\n",
    "- `gym.spaces.Box`: 任意 shape 的连续空间，例如 `Box(low=-1.0, high=2.0, shape=(3, 4), dtype=np.float32)` 代表 3x4 的一个 matrix\n",
    "- `gym.spaces.Discrete`：维度为 1，且有 n 个枚举值的空间，如 n=5 的枚举空间 Discrete(5)，具体的枚举值为 0，1，2，3，4\n",
    "\n",
    "有了上面的基础概念，下面来创建一个自定义环境吧"
   ]
  },
  {
   "cell_type": "code",
   "execution_count": 10,
   "metadata": {},
   "outputs": [],
   "source": [
    "import numpy as np\n",
    "import gym\n",
    "from gym import spaces\n",
    "\n",
    "\n",
    "class GoLeftEnv(gym.Env):\n",
    "  \"\"\"\n",
    "  这是一个让智能体学习一直向左走的 1D grid 环境 \n",
    "  \"\"\"\n",
    "  metadata = {'render.modes': ['console']}\n",
    "  LEFT = 0\n",
    "  RIGHT = 1\n",
    "\n",
    "  def __init__(self, grid_size=10):\n",
    "    super(GoLeftEnv, self).__init__()\n",
    "\n",
    "    # 1D-grid 的大小\n",
    "    self.grid_size = grid_size\n",
    "    # agent 初始化在 grid 的最右边\n",
    "    self.agent_pos = grid_size - 1\n",
    "\n",
    "    # 定义 action  observation \n",
    "    # 离散行为空间: left、 right\n",
    "    n_actions = 2\n",
    "    self.action_space = spaces.Discrete(n_actions)\n",
    "    # 观测是智能体现在的位置\n",
    "    self.observation_space = spaces.Box(low=0, high=self.grid_size,\n",
    "                                        shape=(1,), dtype=np.float32)\n",
    "\n",
    "  def reset(self):\n",
    "    \"\"\"\n",
    "    Important: 观测必须是一个 np.array\n",
    "    :return: (np.array) \n",
    "    \"\"\"\n",
    "    # Initialize the agent at the right of the grid\n",
    "    self.agent_pos = self.grid_size - 1\n",
    "    # here we convert to float32 to make it more general (in case we want to use continuous actions)\n",
    "    return np.array([self.agent_pos]).astype(np.float32)\n",
    "\n",
    "  def step(self, action):\n",
    "    if action == self.LEFT:\n",
    "      self.agent_pos -= 1\n",
    "    elif action == self.RIGHT:\n",
    "      self.agent_pos += 1\n",
    "    else:\n",
    "      raise ValueError(\"Received invalid action={} which is not part of the action space\".format(action))\n",
    "    # 如果走到边缘就不能继续走了\n",
    "    self.agent_pos = np.clip(self.agent_pos, 0, self.grid_size)\n",
    "    # 如果走到最左边代表结束了\n",
    "    done = bool(self.agent_pos == 0)\n",
    "    # 走到最左边就给一个正的 reward\n",
    "    reward = 1 if self.agent_pos == 0 else 0\n",
    "    # 目前没有需要额外输出的信息\n",
    "    info = {}\n",
    "    return np.array([self.agent_pos]).astype(np.float32), reward, done, info\n",
    "\n",
    "  def render(self, mode='console'):\n",
    "    # 在命令行中渲染\n",
    "    if mode != 'console':\n",
    "      raise NotImplementedError()\n",
    "    # agent is represented as a cross, rest as a dot\n",
    "    print(\".\" * self.agent_pos, end=\"\")\n",
    "    print(\"x\", end=\"\")\n",
    "    print(\".\" * (self.grid_size - self.agent_pos))\n",
    "\n",
    "  def close(self):\n",
    "    pass\n",
    "    "
   ]
  },
  {
   "cell_type": "code",
   "execution_count": 11,
   "metadata": {},
   "outputs": [],
   "source": [
    "from stable_baselines3 import PPO, A2C # DQN coming soon\n",
    "from stable_baselines3.common.env_util import make_vec_env\n",
    "\n",
    "# 构建环境\n",
    "env = GoLeftEnv(grid_size=10)\n",
    "env = make_vec_env(lambda: env, n_envs=1)\n"
   ]
  },
  {
   "cell_type": "code",
   "execution_count": 12,
   "metadata": {},
   "outputs": [
    {
     "name": "stdout",
     "output_type": "stream",
     "text": [
      "Using cuda device\n",
      "------------------------------------\n",
      "| rollout/              |          |\n",
      "|    ep_len_mean        | 13.1     |\n",
      "|    ep_rew_mean        | 1        |\n",
      "| time/                 |          |\n",
      "|    fps                | 626      |\n",
      "|    iterations         | 100      |\n",
      "|    time_elapsed       | 0        |\n",
      "|    total_timesteps    | 500      |\n",
      "| train/                |          |\n",
      "|    entropy_loss       | -0.25    |\n",
      "|    explained_variance | -0.127   |\n",
      "|    learning_rate      | 0.0007   |\n",
      "|    n_updates          | 99       |\n",
      "|    policy_loss        | -0.00427 |\n",
      "|    value_loss         | 0.000244 |\n",
      "------------------------------------\n",
      "------------------------------------\n",
      "| rollout/              |          |\n",
      "|    ep_len_mean        | 11.5     |\n",
      "|    ep_rew_mean        | 1        |\n",
      "| time/                 |          |\n",
      "|    fps                | 628      |\n",
      "|    iterations         | 200      |\n",
      "|    time_elapsed       | 1        |\n",
      "|    total_timesteps    | 1000     |\n",
      "| train/                |          |\n",
      "|    entropy_loss       | -0.0515  |\n",
      "|    explained_variance | 0.471    |\n",
      "|    learning_rate      | 0.0007   |\n",
      "|    n_updates          | 199      |\n",
      "|    policy_loss        | 2.16e-05 |\n",
      "|    value_loss         | 0.000113 |\n",
      "------------------------------------\n",
      "-------------------------------------\n",
      "| rollout/              |           |\n",
      "|    ep_len_mean        | 9.72      |\n",
      "|    ep_rew_mean        | 1         |\n",
      "| time/                 |           |\n",
      "|    fps                | 628       |\n",
      "|    iterations         | 300       |\n",
      "|    time_elapsed       | 2         |\n",
      "|    total_timesteps    | 1500      |\n",
      "| train/                |           |\n",
      "|    entropy_loss       | -0.0365   |\n",
      "|    explained_variance | 0.0902    |\n",
      "|    learning_rate      | 0.0007    |\n",
      "|    n_updates          | 299       |\n",
      "|    policy_loss        | -0.000355 |\n",
      "|    value_loss         | 0.003     |\n",
      "-------------------------------------\n",
      "------------------------------------\n",
      "| rollout/              |          |\n",
      "|    ep_len_mean        | 9.24     |\n",
      "|    ep_rew_mean        | 1        |\n",
      "| time/                 |          |\n",
      "|    fps                | 627      |\n",
      "|    iterations         | 400      |\n",
      "|    time_elapsed       | 3        |\n",
      "|    total_timesteps    | 2000     |\n",
      "| train/                |          |\n",
      "|    entropy_loss       | -0.0182  |\n",
      "|    explained_variance | 0.822    |\n",
      "|    learning_rate      | 0.0007   |\n",
      "|    n_updates          | 399      |\n",
      "|    policy_loss        | 7.44e-05 |\n",
      "|    value_loss         | 0.000876 |\n",
      "------------------------------------\n",
      "-------------------------------------\n",
      "| rollout/              |           |\n",
      "|    ep_len_mean        | 9.08      |\n",
      "|    ep_rew_mean        | 1         |\n",
      "| time/                 |           |\n",
      "|    fps                | 626       |\n",
      "|    iterations         | 500       |\n",
      "|    time_elapsed       | 3         |\n",
      "|    total_timesteps    | 2500      |\n",
      "| train/                |           |\n",
      "|    entropy_loss       | -0.029    |\n",
      "|    explained_variance | -3.14     |\n",
      "|    learning_rate      | 0.0007    |\n",
      "|    n_updates          | 499       |\n",
      "|    policy_loss        | -0.000149 |\n",
      "|    value_loss         | 0.00183   |\n",
      "-------------------------------------\n",
      "------------------------------------\n",
      "| rollout/              |          |\n",
      "|    ep_len_mean        | 9.04     |\n",
      "|    ep_rew_mean        | 1        |\n",
      "| time/                 |          |\n",
      "|    fps                | 625      |\n",
      "|    iterations         | 600      |\n",
      "|    time_elapsed       | 4        |\n",
      "|    total_timesteps    | 3000     |\n",
      "| train/                |          |\n",
      "|    entropy_loss       | -0.0368  |\n",
      "|    explained_variance | 0.828    |\n",
      "|    learning_rate      | 0.0007   |\n",
      "|    n_updates          | 599      |\n",
      "|    policy_loss        | 0.000249 |\n",
      "|    value_loss         | 0.00058  |\n",
      "------------------------------------\n",
      "------------------------------------\n",
      "| rollout/              |          |\n",
      "|    ep_len_mean        | 9.16     |\n",
      "|    ep_rew_mean        | 1        |\n",
      "| time/                 |          |\n",
      "|    fps                | 624      |\n",
      "|    iterations         | 700      |\n",
      "|    time_elapsed       | 5        |\n",
      "|    total_timesteps    | 3500     |\n",
      "| train/                |          |\n",
      "|    entropy_loss       | -0.0635  |\n",
      "|    explained_variance | 0.81     |\n",
      "|    learning_rate      | 0.0007   |\n",
      "|    n_updates          | 699      |\n",
      "|    policy_loss        | 0.000694 |\n",
      "|    value_loss         | 0.000954 |\n",
      "------------------------------------\n",
      "-------------------------------------\n",
      "| rollout/              |           |\n",
      "|    ep_len_mean        | 9.24      |\n",
      "|    ep_rew_mean        | 1         |\n",
      "| time/                 |           |\n",
      "|    fps                | 624       |\n",
      "|    iterations         | 800       |\n",
      "|    time_elapsed       | 6         |\n",
      "|    total_timesteps    | 4000      |\n",
      "| train/                |           |\n",
      "|    entropy_loss       | -0.00888  |\n",
      "|    explained_variance | 0.885     |\n",
      "|    learning_rate      | 0.0007    |\n",
      "|    n_updates          | 799       |\n",
      "|    policy_loss        | -1.67e-05 |\n",
      "|    value_loss         | 0.000227  |\n",
      "-------------------------------------\n",
      "------------------------------------\n",
      "| rollout/              |          |\n",
      "|    ep_len_mean        | 9.12     |\n",
      "|    ep_rew_mean        | 1        |\n",
      "| time/                 |          |\n",
      "|    fps                | 623      |\n",
      "|    iterations         | 900      |\n",
      "|    time_elapsed       | 7        |\n",
      "|    total_timesteps    | 4500     |\n",
      "| train/                |          |\n",
      "|    entropy_loss       | -0.0105  |\n",
      "|    explained_variance | -0.136   |\n",
      "|    learning_rate      | 0.0007   |\n",
      "|    n_updates          | 899      |\n",
      "|    policy_loss        | 5.58e-05 |\n",
      "|    value_loss         | 0.00286  |\n",
      "------------------------------------\n",
      "-------------------------------------\n",
      "| rollout/              |           |\n",
      "|    ep_len_mean        | 9.04      |\n",
      "|    ep_rew_mean        | 1         |\n",
      "| time/                 |           |\n",
      "|    fps                | 623       |\n",
      "|    iterations         | 1000      |\n",
      "|    time_elapsed       | 8         |\n",
      "|    total_timesteps    | 5000      |\n",
      "| train/                |           |\n",
      "|    entropy_loss       | -0.00262  |\n",
      "|    explained_variance | 0.979     |\n",
      "|    learning_rate      | 0.0007    |\n",
      "|    n_updates          | 999       |\n",
      "|    policy_loss        | -3.27e-06 |\n",
      "|    value_loss         | 0.000136  |\n",
      "-------------------------------------\n"
     ]
    }
   ],
   "source": [
    "# 训练智能体\n",
    "model = A2C('MlpPolicy', env, verbose=1).learn(5000)"
   ]
  },
  {
   "cell_type": "code",
   "execution_count": 13,
   "metadata": {},
   "outputs": [
    {
     "name": "stdout",
     "output_type": "stream",
     "text": [
      "Step 1\n",
      "Action:  [0]\n",
      "obs= [[8.]] reward= [0.] done= [False]\n",
      "........x..\n",
      "Step 2\n",
      "Action:  [0]\n",
      "obs= [[7.]] reward= [0.] done= [False]\n",
      ".......x...\n",
      "Step 3\n",
      "Action:  [0]\n",
      "obs= [[6.]] reward= [0.] done= [False]\n",
      "......x....\n",
      "Step 4\n",
      "Action:  [0]\n",
      "obs= [[5.]] reward= [0.] done= [False]\n",
      ".....x.....\n",
      "Step 5\n",
      "Action:  [0]\n",
      "obs= [[4.]] reward= [0.] done= [False]\n",
      "....x......\n",
      "Step 6\n",
      "Action:  [0]\n",
      "obs= [[3.]] reward= [0.] done= [False]\n",
      "...x.......\n",
      "Step 7\n",
      "Action:  [0]\n",
      "obs= [[2.]] reward= [0.] done= [False]\n",
      "..x........\n",
      "Step 8\n",
      "Action:  [0]\n",
      "obs= [[1.]] reward= [0.] done= [False]\n",
      ".x.........\n",
      "Step 9\n",
      "Action:  [0]\n",
      "obs= [[9.]] reward= [1.] done= [ True]\n",
      ".........x.\n",
      "Goal reached! reward= [1.]\n"
     ]
    }
   ],
   "source": [
    "# Test the trained agent\n",
    "obs = env.reset()\n",
    "n_steps = 20\n",
    "for step in range(n_steps):\n",
    "  action, _ = model.predict(obs, deterministic=True)\n",
    "  print(\"Step {}\".format(step + 1))\n",
    "  print(\"Action: \", action)\n",
    "  obs, reward, done, info = env.step(action)\n",
    "  print('obs=', obs, 'reward=', reward, 'done=', done)\n",
    "  env.render(mode='console')\n",
    "  if done:\n",
    "    # Note that the VecEnv resets automatically\n",
    "    # when a done signal is encountered\n",
    "    print(\"Goal reached!\", \"reward=\", reward)\n",
    "    break"
   ]
  },
  {
   "cell_type": "markdown",
   "metadata": {},
   "source": [
    "可以看到智能体已经会一直走，走到左边啦！"
   ]
  },
  {
   "cell_type": "code",
   "execution_count": null,
   "metadata": {},
   "outputs": [],
   "source": []
  }
 ],
 "metadata": {
  "accelerator": "GPU",
  "colab": {
   "collapsed_sections": [],
   "include_colab_link": true,
   "name": "1_getting_started.ipynb",
   "provenance": []
  },
  "kernelspec": {
   "display_name": "rl-python3.8.10",
   "language": "python",
   "name": "rl-python3.8.10"
  },
  "language_info": {
   "codemirror_mode": {
    "name": "ipython",
    "version": 3
   },
   "file_extension": ".py",
   "mimetype": "text/x-python",
   "name": "python",
   "nbconvert_exporter": "python",
   "pygments_lexer": "ipython3",
   "version": "3.8.10"
  }
 },
 "nbformat": 4,
 "nbformat_minor": 4
}
